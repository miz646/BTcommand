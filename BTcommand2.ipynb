{
 "cells": [
  {
   "cell_type": "code",
   "execution_count": 2,
   "metadata": {},
   "outputs": [
    {
     "name": "stdout",
     "output_type": "stream",
     "text": [
      "completed!\n"
     ]
    }
   ],
   "source": [
    "import openpyxl\n",
    "import datetime\n",
    "import random\n",
    "\n",
    "w2ago = openpyxl.load_workbook(\"体調・行動記録.xlsx\")\n",
    "w1ago = openpyxl.load_workbook(\"体調・行動記録2.xlsx\")\n",
    "\n",
    "w2sheet = w2ago.worksheets[0]\n",
    "w1sheet = w1ago.worksheets[0]\n",
    "\n",
    "cells1 = ['B14' , 'C14' , 'D14' , 'E14' , 'F14', 'G14', 'H14']\n",
    "cells2 = ['B15' , 'C15' , 'D15' , 'E15' , 'F15', 'G15', 'H15']\n",
    "cells3 = ['B16' , 'C16' , 'D16' , 'E16' , 'F16', 'G16', 'H16']\n",
    "\n",
    "temps = [36.3, 36.4, 36.5, 36.6, 36.7, 36.8]\n",
    "\n",
    "for j in range(7):\n",
    "\n",
    "    for i in range(len(cells1)-1):\n",
    "    \n",
    "        w2sheet[cells1[i]].value = w2sheet[cells1[i+1]].value\n",
    "    \n",
    "\n",
    "    for i in range(len(cells2)-1):\n",
    "    \n",
    "        w2sheet[cells2[i]].value = w2sheet[cells2[i+1]].value\n",
    "    \n",
    "\n",
    "    for i in range(len(cells3)-1):\n",
    "    \n",
    "        w2sheet[cells3[i]].value = w2sheet[cells3[i+1]].value\n",
    "    \n",
    "\n",
    "    w2sheet['H14'].value = w1sheet['B14'].value\n",
    "    w2sheet['H15'].value = w1sheet['B15'].value\n",
    "    w2sheet['H16'].value = w1sheet['B16'].value\n",
    "\n",
    "    for i in range(len(cells1)-1):\n",
    "    \n",
    "        w1sheet[cells1[i]].value = w1sheet[cells1[i+1]].value\n",
    "\n",
    "\n",
    "    for i in range(len(cells2)-1):\n",
    "    \n",
    "        w1sheet[cells2[i]].value = w1sheet[cells2[i+1]].value\n",
    "\n",
    "    for i in range(len(cells3)-1):\n",
    "    \n",
    "        w1sheet[cells3[i]].value = w1sheet[cells3[i+1]].value\n",
    "\n",
    "\n",
    "    w1sheet['H14'].value += datetime.timedelta(days=1)   \n",
    "\n",
    "\n",
    "\n",
    "    a = random.randint(0,5)\n",
    "    b = random.randint(0,5)\n",
    "\n",
    "    w1sheet['H15'].value = temps[a]\n",
    "    w1sheet['H16'].value = temps[b]\n",
    "\n",
    "    w2ago.save(\"体調・行動記録.xlsx\")\n",
    "    w1ago.save(\"体調・行動記録2.xlsx\")\n",
    "\n",
    "print(\"completed!\")"
   ]
  },
  {
   "cell_type": "code",
   "execution_count": null,
   "metadata": {},
   "outputs": [],
   "source": []
  },
  {
   "cell_type": "code",
   "execution_count": null,
   "metadata": {},
   "outputs": [],
   "source": []
  }
 ],
 "metadata": {
  "kernelspec": {
   "display_name": "Python 3",
   "language": "python",
   "name": "python3"
  },
  "language_info": {
   "codemirror_mode": {
    "name": "ipython",
    "version": 3
   },
   "file_extension": ".py",
   "mimetype": "text/x-python",
   "name": "python",
   "nbconvert_exporter": "python",
   "pygments_lexer": "ipython3",
   "version": "3.7.6"
  }
 },
 "nbformat": 4,
 "nbformat_minor": 4
}
